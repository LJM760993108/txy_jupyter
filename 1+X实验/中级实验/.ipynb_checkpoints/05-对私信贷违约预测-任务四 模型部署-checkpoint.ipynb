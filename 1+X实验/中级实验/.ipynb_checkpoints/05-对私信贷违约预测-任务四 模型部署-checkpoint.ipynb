{
 "cells": [
  {
   "cell_type": "markdown",
   "metadata": {},
   "source": [
    "### 模型保存"
   ]
  },
  {
   "cell_type": "code",
   "execution_count": null,
   "metadata": {},
   "outputs": [],
   "source": [
    "\n",
    "# 深度学习的训练一般需要一定时间，因此，需要把训练好的模型保存下来，以便之后再训练或把模型分享给别人。模型的保存也可以叫做持久化。\n",
    "# 将LR模型保存。\n",
    "#持久化，把模型保存到本地磁盘\n",
    "\n",
    "from sklearn.externals import joblib\n",
    "joblib.dump(lr_model_final,'lr_model_final.pkl')\n",
    "#从磁盘加载模型\n",
    "lr_model_load = joblib.load('lr_model_final.pkl')\n",
    "y_test_pred = lr_model_load.predict(X_test_std)\n",
    "print('roc_auc of lr_model score:{}'.format(roc_auc_score(y_test,y_test_pred)))\n"
   ]
  }
 ],
 "metadata": {
  "kernelspec": {
   "display_name": "Python 3",
   "language": "python",
   "name": "python3"
  },
  "language_info": {
   "codemirror_mode": {
    "name": "ipython",
    "version": 3
   },
   "file_extension": ".py",
   "mimetype": "text/x-python",
   "name": "python",
   "nbconvert_exporter": "python",
   "pygments_lexer": "ipython3",
   "version": "3.7.6"
  }
 },
 "nbformat": 4,
 "nbformat_minor": 4
}
