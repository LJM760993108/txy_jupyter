{
 "cells": [
  {
   "cell_type": "markdown",
   "metadata": {},
   "source": [
    "## 任务一 Matplotlib"
   ]
  },
  {
   "cell_type": "code",
   "execution_count": 1,
   "metadata": {},
   "outputs": [
    {
     "data": {
      "image/png": "[encoded data removed]",
      "text/plain": [
       "<Figure size 432x288 with 1 Axes>"
      ]
     },
     "metadata": {
      "needs_background": "light"
     },
     "output_type": "display_data"
    }
   ],
   "source": [
    "# 1. 使用import语句导入matplotlib绘图包。\n",
    "# \t%matplotlib inline：将matplotlib图标直接嵌入到Notebook中，“%”为行命令，“%%”为单元命令，行命令只对命令所在的行有效，而单元命令则必须出现在单元的第一行，对整个单元的代码进行处理。\n",
    "# \tplt.figure()：创建绘图空间；\n",
    "# \tplt.plot()：matplotlib中绘制散点图方法；\n",
    "# \tplt.show()：显示图像结果。\n",
    "import matplotlib.pyplot as plt\n",
    "%matplotlib inline\n",
    "\n",
    "plt.figure()\n",
    "plt.plot([1, 0, 9], [4, 5, 6])\n",
    "plt.show()\n"
   ]
  },
  {
   "cell_type": "code",
   "execution_count": 4,
   "metadata": {},
   "outputs": [
    {
     "data": {
      "image/png": "[encoded data removed]",
      "text/plain": [
       "<Figure size 432x288 with 1 Axes>"
      ]
     },
     "metadata": {
      "needs_background": "light"
     },
     "output_type": "display_data"
    }
   ],
   "source": [
    "# 绘制折线图与保存图片。\n",
    "# \t为了更好地理解所有基础绘图功能，通过天气温度变化的绘图来融合所有的基础API使用；\n",
    "# \tmatplotlib.pytplot包含了一系列类似于matlab的画图函数，可作用于当前图形(figure)的当前坐标系(axes)。\n",
    "import matplotlib.pyplot as plt\n",
    "\n",
    "# 举例：展现上海一周的天气，绘制星期一到星期日的天气温度折线图。\n",
    "# 1）创建画布(容器层)\n",
    "plt.figure()\n",
    "# 2）绘制折线图(图像层)\n",
    "plt.plot([1, 2, 3, 4, 5, 6 ,7], [17, 17, 18, 15, 11, 11, 13])\n",
    "# 3）显示图像\n",
    "plt.show()\n"
   ]
  },
  {
   "cell_type": "code",
   "execution_count": 5,
   "metadata": {},
   "outputs": [
    {
     "data": {
      "text/plain": [
       "<Figure size 1600x640 with 0 Axes>"
      ]
     },
     "metadata": {},
     "output_type": "display_data"
    }
   ],
   "source": [
    "# 3. 设置画布属性与图片保存。\n",
    "# plt.figure(figsize=(), dpi=)\n",
    "#     figsize:指定图的长宽\n",
    "#     dpi:图像的清晰度\n",
    "#     返回fig对象\n",
    "# plt.savefig(path)\n",
    "\n",
    "# 1）创建画布，并设置画布属性\n",
    "plt.figure(figsize=(20, 8), dpi=80)\n",
    "# 2）保存图片到指定路径\n",
    "plt.savefig(\"test.png\")\n"
   ]
  },
  {
   "cell_type": "markdown",
   "metadata": {},
   "source": [
    "## 任务二 Numpy"
   ]
  },
  {
   "cell_type": "code",
   "execution_count": 7,
   "metadata": {},
   "outputs": [
    {
     "name": "stdout",
     "output_type": "stream",
     "text": [
      "[[0. 0. 0. 0.]\n",
      " [0. 0. 0. 0.]\n",
      " [0. 0. 0. 0.]]\n"
     ]
    }
   ],
   "source": [
    "# NumPy\n",
    "# NumPy（Numerical Python）是一个开源的Python科学计算库，用于快速处理任意维度的数组。\n",
    "# NumPy库支持常见的数组和矩阵操作，使用ndarray对象来处理多维数组。\n",
    "# NumPy提供的N维数组类型darray，描述了相同类型的“items”的集合。\n",
    "# \tnp.zeros():生成所有元素为0的矩阵。\n",
    "import numpy as np\n",
    "zero = np.zeros([3, 4])\n",
    "print(zero)"
   ]
  },
  {
   "cell_type": "code",
   "execution_count": 9,
   "metadata": {},
   "outputs": [
    {
     "name": "stdout",
     "output_type": "stream",
     "text": [
      "[[1 2 3]\n",
      " [4 5 6]] [[1 2 3]\n",
      " [4 5 6]]\n"
     ]
    }
   ],
   "source": [
    "# 通过列表传入数据。\n",
    "a = np.array([[1,2,3],[4,5,6]])\n",
    "# 从现有的数组当中创建\n",
    "a1 = np.array(a)\n",
    "# 相当于索引的形式，并没有真正的创建一个新的\n",
    "a2 = np.asarray(a)\n",
    "print(a, a1)\n"
   ]
  },
  {
   "cell_type": "code",
   "execution_count": 10,
   "metadata": {},
   "outputs": [
    {
     "data": {
      "text/plain": [
       "array([  0.        ,  11.11111111,  22.22222222,  33.33333333,\n",
       "        44.44444444,  55.55555556,  66.66666667,  77.77777778,\n",
       "        88.88888889, 100.        ])"
      ]
     },
     "execution_count": 10,
     "metadata": {},
     "output_type": "execute_result"
    }
   ],
   "source": [
    "# 使用np.linspace (start, stop, num, endpoint, retstep, dtype)生成固定范围的数组，参数含义如下：\n",
    "# \tstart：序列的起始值；\n",
    "# \tstop：序列的终止值；\n",
    "# \tendpoint：如果endpoint为true，则包含终止值；\n",
    "# \tnum：生成的等间隔样例数量，默认为50；\n",
    "# \trestep：如果为true，返回样例，以及连续数字之间的步长；\n",
    "# \tdtype：输出ndarray的数据类型。\n",
    "np.linspace(0, 100, 10)\n"
   ]
  },
  {
   "cell_type": "code",
   "execution_count": 13,
   "metadata": {},
   "outputs": [
    {
     "name": "stdout",
     "output_type": "stream",
     "text": [
      "[-0.65168266  0.10049464  0.32883132 ... -0.24229306 -0.19457605\n",
      " -0.02205666]\n"
     ]
    }
   ],
   "source": [
    "# 生成均匀分布随机数组。\n",
    "x1 = np.random.uniform(-1, 1, 100000000)\n",
    "print(x1)"
   ]
  },
  {
   "cell_type": "code",
   "execution_count": 14,
   "metadata": {},
   "outputs": [
    {
     "data": {
      "text/plain": [
       "array([[-0.51747833, -0.68348025,  0.15776698,  0.53384108, -2.42312341,\n",
       "        -0.08346629, -0.56694286, -0.64453651, -0.15002444,  0.49315112],\n",
       "       [ 0.63625706, -1.93035131, -1.72374826, -0.47825689,  0.99990543,\n",
       "        -0.57591291,  0.57251932, -1.09245368,  1.2053356 , -0.84765658],\n",
       "       [ 0.0197604 , -1.25750956, -1.29398558,  0.08081749,  1.16675886,\n",
       "         0.04506713,  1.22134616, -0.34976934, -0.71275642,  1.43896176],\n",
       "       [-0.61673179, -0.11121603, -0.42114982, -2.04615585, -0.30401785,\n",
       "         2.20921451, -0.22350749,  0.37826634, -0.41430489, -0.24410975],\n",
       "       [ 1.99953017,  1.30368469, -0.38833821, -0.16282397, -0.43751591,\n",
       "         1.10319347, -0.94909765, -1.30622693,  1.39803545,  1.59765089],\n",
       "       [-0.17683393,  0.16071282, -0.45513753,  0.05341539, -1.77706362,\n",
       "         0.58018842, -0.82814111, -0.09571117,  1.23701578,  0.15380234],\n",
       "       [-0.74694216,  1.30486775,  0.23759707,  0.27260086,  0.21860338,\n",
       "         0.97903072,  0.2264472 , -0.66886308, -0.93169513, -1.21017962],\n",
       "       [ 1.87822723,  0.32865722,  1.49229161,  0.57344787,  0.2924273 ,\n",
       "        -0.10650987, -0.61683484,  0.05100643, -0.9939862 ,  1.3029556 ]])"
      ]
     },
     "execution_count": 14,
     "metadata": {},
     "output_type": "execute_result"
    }
   ],
   "source": [
    "# 数组的索引、切片。\n",
    "# 创建符合正态分布的8只股票10天的涨跌幅数据\n",
    "stock_change = np.random.normal(0, 1, (8, 10))\n",
    "stock_change\n"
   ]
  },
  {
   "cell_type": "code",
   "execution_count": 15,
   "metadata": {},
   "outputs": [
    {
     "data": {
      "text/plain": [
       "array([-0.51747833, -0.68348025,  0.15776698])"
      ]
     },
     "execution_count": 15,
     "metadata": {},
     "output_type": "execute_result"
    }
   ],
   "source": [
    "# 举例：获取第一个股票的前3个交易日的涨跌幅数据。\n",
    "# 二维的数组，两个维度 \n",
    "stock_change[0, 0:3]\n"
   ]
  },
  {
   "cell_type": "code",
   "execution_count": 16,
   "metadata": {},
   "outputs": [
    {
     "data": {
      "text/plain": [
       "array([[-0.51747833, -0.68348025,  0.15776698,  0.53384108, -2.42312341,\n",
       "        -0.08346629, -0.56694286, -0.64453651, -0.15002444,  0.49315112,\n",
       "         0.63625706, -1.93035131, -1.72374826, -0.47825689,  0.99990543,\n",
       "        -0.57591291,  0.57251932, -1.09245368,  1.2053356 , -0.84765658],\n",
       "       [ 0.0197604 , -1.25750956, -1.29398558,  0.08081749,  1.16675886,\n",
       "         0.04506713,  1.22134616, -0.34976934, -0.71275642,  1.43896176,\n",
       "        -0.61673179, -0.11121603, -0.42114982, -2.04615585, -0.30401785,\n",
       "         2.20921451, -0.22350749,  0.37826634, -0.41430489, -0.24410975],\n",
       "       [ 1.99953017,  1.30368469, -0.38833821, -0.16282397, -0.43751591,\n",
       "         1.10319347, -0.94909765, -1.30622693,  1.39803545,  1.59765089,\n",
       "        -0.17683393,  0.16071282, -0.45513753,  0.05341539, -1.77706362,\n",
       "         0.58018842, -0.82814111, -0.09571117,  1.23701578,  0.15380234],\n",
       "       [-0.74694216,  1.30486775,  0.23759707,  0.27260086,  0.21860338,\n",
       "         0.97903072,  0.2264472 , -0.66886308, -0.93169513, -1.21017962,\n",
       "         1.87822723,  0.32865722,  1.49229161,  0.57344787,  0.2924273 ,\n",
       "        -0.10650987, -0.61683484,  0.05100643, -0.9939862 ,  1.3029556 ]])"
      ]
     },
     "execution_count": 16,
     "metadata": {},
     "output_type": "execute_result"
    }
   ],
   "source": [
    "# \tndarray.reshape(shape[, order])：修改数组格式。\n",
    "# 在转换形状的时候，一定要注意数组的元素匹配\n",
    "stock_change.reshape([10, 8]) # 只是将形状进行了修改，但并没有将行列进行转换\n",
    "stock_change.reshape([-1,20])  # 数组的形状被修改为: (4, 20), -1: 表示通过待计算\n"
   ]
  },
  {
   "cell_type": "code",
   "execution_count": 19,
   "metadata": {},
   "outputs": [
    {
     "name": "stdout",
     "output_type": "stream",
     "text": [
      "(10, 8)\n",
      "(8, 10)\n"
     ]
    },
    {
     "data": {
      "text/plain": [
       "array([1, 2, 3, 4, 5, 6])"
      ]
     },
     "execution_count": 19,
     "metadata": {},
     "output_type": "execute_result"
    }
   ],
   "source": [
    "# \tndarray.T：数组的转置。\n",
    "print(stock_change.shape)\n",
    "\n",
    "print(stock_change.T.shape)\n",
    "\n",
    "# \tndarray.resize(new_shape[, refcheck])：修改数组大小。\n",
    "stock_change.resize([10, 8])\n",
    "\n",
    "# \tndarray.astype(type)：修改数组类型。\n",
    "stock_change.astype(np.int32)\n",
    "\n",
    "# \tndarray.tostring([order])或ndarray.tobytes([order]) ：将数组转化为字符串。\n",
    "arr = np.array([[[1, 2, 3], [4, 5, 6]], [[12, 3, 34], [5, 6, 7]]])\n",
    "arr.tostring()\n",
    "\n",
    "# \tndarray.unique：数组去重，去除数组中重复的数值。\n",
    "temp = np.array([[1, 2, 3, 4],[3, 4, 5, 6]])\n",
    "\n",
    "np.unique(temp)\n",
    "\n"
   ]
  },
  {
   "cell_type": "markdown",
   "metadata": {},
   "source": [
    "## 任务三 pandas"
   ]
  },
  {
   "cell_type": "code",
   "execution_count": 21,
   "metadata": {},
   "outputs": [
    {
     "name": "stdout",
     "output_type": "stream",
     "text": [
      "          0         1         2         3         4         5         6  \\\n",
      "0 -0.517478 -0.683480  0.157767  0.533841 -2.423123 -0.083466 -0.566943   \n",
      "1 -0.150024  0.493151  0.636257 -1.930351 -1.723748 -0.478257  0.999905   \n",
      "2  0.572519 -1.092454  1.205336 -0.847657  0.019760 -1.257510 -1.293986   \n",
      "3  1.166759  0.045067  1.221346 -0.349769 -0.712756  1.438962 -0.616732   \n",
      "4 -0.421150 -2.046156 -0.304018  2.209215 -0.223507  0.378266 -0.414305   \n",
      "5  1.999530  1.303685 -0.388338 -0.162824 -0.437516  1.103193 -0.949098   \n",
      "6  1.398035  1.597651 -0.176834  0.160713 -0.455138  0.053415 -1.777064   \n",
      "7 -0.828141 -0.095711  1.237016  0.153802 -0.746942  1.304868  0.237597   \n",
      "8  0.218603  0.979031  0.226447 -0.668863 -0.931695 -1.210180  1.878227   \n",
      "9  1.492292  0.573448  0.292427 -0.106510 -0.616835  0.051006 -0.993986   \n",
      "\n",
      "          7  \n",
      "0 -0.644537  \n",
      "1 -0.575913  \n",
      "2  0.080817  \n",
      "3 -0.111216  \n",
      "4 -0.244110  \n",
      "5 -1.306227  \n",
      "6  0.580188  \n",
      "7  0.272601  \n",
      "8  0.328657  \n",
      "9  1.302956  \n"
     ]
    }
   ],
   "source": [
    "# \tpandas\n",
    "# pandas提供了两种数据结构：Series和DataFrame。\n",
    "# DataFrame对象既有行索引，又有列索引，index为行索引，columns为列索引。\n",
    "# 使用Pandas中的数据结构DataFrame。\n",
    "import pandas as pd\n",
    "\n",
    "stock_change = pd.DataFrame(stock_change)\n",
    "print(stock_change)"
   ]
  },
  {
   "cell_type": "code",
   "execution_count": null,
   "metadata": {},
   "outputs": [],
   "source": []
  }
 ],
 "metadata": {
  "kernelspec": {
   "display_name": "Python 3",
   "language": "python",
   "name": "python3"
  },
  "language_info": {
   "codemirror_mode": {
    "name": "ipython",
    "version": 3
   },
   "file_extension": ".py",
   "mimetype": "text/x-python",
   "name": "python",
   "nbconvert_exporter": "python",
   "pygments_lexer": "ipython3",
   "version": "3.7.6"
  }
 },
 "nbformat": 4,
 "nbformat_minor": 4
}
