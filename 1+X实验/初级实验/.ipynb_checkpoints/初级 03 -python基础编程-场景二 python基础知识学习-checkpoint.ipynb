{
 "cells": [
  {
   "cell_type": "markdown",
   "metadata": {},
   "source": [
    "## 任务一 Python变量和简单数据类型"
   ]
  },
  {
   "cell_type": "code",
   "execution_count": 1,
   "metadata": {},
   "outputs": [
    {
     "name": "stdout",
     "output_type": "stream",
     "text": [
      "5\n",
      "Hello Python\n",
      "读者名： Michael 年龄： 20\n"
     ]
    }
   ],
   "source": [
    "\n",
    "# 变量就像一个个小容器，用于“盛装”程序中的数据，不需要声明即可直接赋值，同时，变量的数据类型可以动态改变。\n",
    "a = 5\n",
    "print(a)\n",
    "\n",
    "a = \"Hello Python\"\n",
    "print(a)\n",
    "\n",
    "user_name = \"Michael\"\n",
    "user_age = \"20\"\n",
    "print(\"读者名：\", user_name, \"年龄：\",user_age)\n"
   ]
  },
  {
   "cell_type": "code",
   "execution_count": 2,
   "metadata": {},
   "outputs": [
    {
     "name": "stdout",
     "output_type": "stream",
     "text": [
      "5\n",
      "<class 'int'>\n",
      "5.55\n",
      "<class 'float'>\n",
      "Hello Python\n",
      "<class 'str'>\n"
     ]
    }
   ],
   "source": [
    "# Python中常见的数据类型包括：整型、浮点型和字符串。\n",
    "# 整型\n",
    "a = 5\n",
    "print(a)\n",
    "print(type(a))\n",
    "\n",
    "# 浮点型\n",
    "a = 5.55\n",
    "print(a)\n",
    "print(type(a))\n",
    "\n",
    "# 字符串\n",
    "a = 'Hello Python'\n",
    "print(a)\n",
    "print(type(a))\n"
   ]
  },
  {
   "cell_type": "markdown",
   "metadata": {},
   "source": [
    "## 任务二\t字符串操作"
   ]
  },
  {
   "cell_type": "code",
   "execution_count": 3,
   "metadata": {},
   "outputs": [
    {
     "name": "stdout",
     "output_type": "stream",
     "text": [
      "Michael\n",
      "你好\n"
     ]
    }
   ],
   "source": [
    "\n",
    "# Python中字符串的内容几乎可以包含任何字符。通常，使用单引号或双引号标记字符串内容。\n",
    "str1 = 'Michael'\n",
    "str2 = \"你好\"\n",
    "print(str1)\n",
    "print(str2)\n"
   ]
  },
  {
   "cell_type": "code",
   "execution_count": 4,
   "metadata": {},
   "outputs": [
    {
     "name": "stdout",
     "output_type": "stream",
     "text": [
      "Python is funny\n"
     ]
    }
   ],
   "source": [
    "# 拼接字符串，使用加号“+”作为字符串的拼接运算符。\n",
    "str1 = 'Python'\n",
    "str2 = ' is funny'\n",
    "str3 = str1 + str2\n",
    "print(str3) \n"
   ]
  },
  {
   "cell_type": "code",
   "execution_count": 5,
   "metadata": {},
   "outputs": [
    {
     "name": "stdout",
     "output_type": "stream",
     "text": [
      "这本书的价格是：45\n"
     ]
    }
   ],
   "source": [
    "# 使用str()函数：将数值转化为字符串。\n",
    "s1 = \"这本书的价格是：\"\n",
    "p = 45\n",
    "# print(s1 + p) wrong\n",
    "print(s1 + str(p)) \n"
   ]
  },
  {
   "cell_type": "code",
   "execution_count": null,
   "metadata": {},
   "outputs": [],
   "source": [
    "# 使用input()：获取输入字符串。\n",
    "#input()函数用于向用户生成一条提示，然后获取用户输入的内容。\n",
    "msg = input(\"请输入值：\")\n",
    "print(type(msg))\n",
    "print(msg)\n"
   ]
  },
  {
   "cell_type": "code",
   "execution_count": 6,
   "metadata": {},
   "outputs": [
    {
     "name": "stdout",
     "output_type": "stream",
     "text": [
      "The book price is 108\n",
      "Michael is 18 years old\n"
     ]
    }
   ],
   "source": [
    "# 字符串格式化输出，“%”可以对各种类型的数据进行格式化输出。\n",
    "price = 108\n",
    "print('The book price is %s' % price)\n",
    "\n",
    "user = 'Michael'\n",
    "age = '18'\n",
    "print('%s is %s years old' % (user, age)) \n"
   ]
  },
  {
   "cell_type": "code",
   "execution_count": 7,
   "metadata": {},
   "outputs": [
    {
     "name": "stdout",
     "output_type": "stream",
     "text": [
      "Python Is Funny\n",
      "python is funny\n",
      "PYTHON IS FUNNY\n"
     ]
    }
   ],
   "source": [
    "# 字符串大小写转换：\n",
    "# \ttitle()：将每个单词的首字母改为大写；\n",
    "# \tlower()：将整个字符串改为小写；\n",
    "# \tupper()：将整个字符串改为大写。\n",
    "a = 'Python is funny'\n",
    "print(a.title())\n",
    "print(a.lower())\n",
    "print(a.upper())\n"
   ]
  },
  {
   "cell_type": "code",
   "execution_count": 8,
   "metadata": {},
   "outputs": [
    {
     "name": "stdout",
     "output_type": "stream",
     "text": [
      "True\n",
      "True\n",
      "0\n",
      "0\n",
      "World is funny\n"
     ]
    }
   ],
   "source": [
    "# 查找、替换相关方法：\n",
    "# \tstartswith()：判断字符串是否以指定子串开头；\n",
    "# \tendswith()：判断字符串是否以指定子串结尾；\n",
    "# \tfind()：查找指定子串在字符串中出现的位置，如果没有找到指定子串，则返回-1；\n",
    "# \tindex()：查找指定子串在字符串中出现的位置，如果没有找到指定子串，则引发ValueError错误；\n",
    "# \treplace(x,y)：使用指定子串y替换字符串中的目标子串x。\n",
    "a = 'Python is funny'\n",
    "print(a.startswith('Python'))\n",
    "\n",
    "print(a.endswith('funny'))\n",
    "\n",
    "print(a.find('Python'))\n",
    "\n",
    "print(a.index('Python'))\n",
    "\n",
    "print(a.replace('Python', 'World'))\n"
   ]
  },
  {
   "cell_type": "markdown",
   "metadata": {},
   "source": [
    "## 任务三 运算符运用"
   ]
  },
  {
   "cell_type": "code",
   "execution_count": 9,
   "metadata": {},
   "outputs": [
    {
     "name": "stdout",
     "output_type": "stream",
     "text": [
      "Python\n",
      "20\n",
      "20\n"
     ]
    }
   ],
   "source": [
    "\n",
    "# 赋值运算：赋值运算符用于为变量或常量指定值，使用“=”作为赋值运算符。\n",
    "a = 'Python'\n",
    "print(a)\n",
    "a = 20\n",
    "print(a)\n",
    "b = a\n",
    "print(b)\n"
   ]
  },
  {
   "cell_type": "code",
   "execution_count": 10,
   "metadata": {},
   "outputs": [
    {
     "name": "stdout",
     "output_type": "stream",
     "text": [
      "6.0\n",
      "2.0\n",
      "20\n",
      "2.0\n",
      "2\n",
      "2\n",
      "25\n"
     ]
    }
   ],
   "source": [
    "# 算术运算符：Python支持所有的基本算术运算符，这些算术运算符用于执行基本的数学运算，如加、减、乘、除和求余等。\n",
    "# +:加法运算符\n",
    "a = 2.5\n",
    "b = 3.5\n",
    "the_sum = a + b \n",
    "print(the_sum)\n",
    "\n",
    "# -：减法运算符\n",
    "c = 6.5\n",
    "d = 4.5\n",
    "sub = c - d\n",
    "print(sub)\n",
    "\n",
    "# *:乘法运算符\n",
    "e = 5\n",
    "f = 4\n",
    "mul = e * f\n",
    "print(mul)\n",
    "\n",
    "# /或// :除法运算符\n",
    "g = 6\n",
    "h = 3 \n",
    "div = g / h\n",
    "print(div)\n",
    "div1 = g // h\n",
    "print(div1)\n",
    "\n",
    "# %:求余运算符\n",
    "i = 5\n",
    "j = 3\n",
    "remain = i % 3\n",
    "print(remain)\n",
    "\n",
    "# **:乘方运算符\n",
    "k = 5\n",
    "l = 2\n",
    "power = k ** 2\n",
    "print(power)\n"
   ]
  },
  {
   "cell_type": "code",
   "execution_count": 11,
   "metadata": {},
   "outputs": [
    {
     "name": "stdout",
     "output_type": "stream",
     "text": [
      "True\n",
      "False\n",
      "True\n",
      "True\n",
      "True\n",
      "False\n",
      "True\n"
     ]
    }
   ],
   "source": [
    "# 比较运算符：用于判断两个值之间的大小，比较运算返回的结果是bool值，True表示结果为真，False表示结果为假。\n",
    "# >, >=, <, <=, ==, !=, is\n",
    "print(5>4)\n",
    "print(5<4)\n",
    "print(5>=5)\n",
    "print(4<=5)\n",
    "print(5==5)\n",
    "print(5!=5)\n",
    "a = 20\n",
    "b = a\n",
    "print(a is b)\n"
   ]
  },
  {
   "cell_type": "code",
   "execution_count": 12,
   "metadata": {},
   "outputs": [
    {
     "name": "stdout",
     "output_type": "stream",
     "text": [
      "True\n",
      "True\n",
      "True\n"
     ]
    }
   ],
   "source": [
    "# 逻辑运算符：用于操作bool类型的变量、常量、或表达式，逻辑运算的返回结果也是bool值。\n",
    "# and, or, not\n",
    "print(5>4 and 4>3)\n",
    "print(5>4 or 4>5)\n",
    "print(not False)\n"
   ]
  },
  {
   "cell_type": "markdown",
   "metadata": {},
   "source": [
    "## 任务四 \t列表、元组和字典的使用"
   ]
  },
  {
   "cell_type": "markdown",
   "metadata": {},
   "source": [
    "### 列表和元祖"
   ]
  },
  {
   "cell_type": "code",
   "execution_count": 13,
   "metadata": {},
   "outputs": [
    {
     "name": "stdout",
     "output_type": "stream",
     "text": [
      "['a', 'b', 'c']\n",
      "('a', 'b', 'c')\n"
     ]
    }
   ],
   "source": [
    "\n",
    "# 列表和元组。\n",
    "# \t列表：在具体的编程过程中，调用的数据数据项如果产生修改，则需要使用列表。\n",
    "# \t元组：在具体的编程过程中，如何只是固定地保存多个数据项，不需要修改它们，此时需要使用元组。\n",
    "my_list = ['a', 'b', 'c']\n",
    "print(my_list)\n",
    "\n",
    "my_tuple = ('a', 'b', 'c')\n",
    "print(my_tuple)\n"
   ]
  },
  {
   "cell_type": "code",
   "execution_count": 14,
   "metadata": {},
   "outputs": [
    {
     "name": "stdout",
     "output_type": "stream",
     "text": [
      "a\n",
      "c\n",
      "c\n"
     ]
    }
   ],
   "source": [
    "# 通过索引查询列表中数据。\n",
    "my_list = ['a', 'b', 'c']\n",
    "print(my_list[0])\n",
    "print(my_list[2])\n",
    "print(my_list[-1])\n",
    "# 元组用法相同\n"
   ]
  },
  {
   "cell_type": "code",
   "execution_count": 15,
   "metadata": {},
   "outputs": [
    {
     "name": "stdout",
     "output_type": "stream",
     "text": [
      "['b', 'c']\n",
      "['c', 'd']\n"
     ]
    }
   ],
   "source": [
    "# 列表切片：返回的是切片对象的子序列。\n",
    "my_list = ['a', 'b', 'c', 'd', 'e']\n",
    "print(my_list[1:3])\n",
    "print(my_list[-3:-1])\n"
   ]
  },
  {
   "cell_type": "code",
   "execution_count": 16,
   "metadata": {},
   "outputs": [
    {
     "name": "stdout",
     "output_type": "stream",
     "text": [
      "['a', 'b', 'c', 'e', 'f', 'g']\n"
     ]
    }
   ],
   "source": [
    "# 列表加法。\n",
    "a_list = ['a', 'b', 'c']\n",
    "b_list = ['e', 'f', 'g']\n",
    "sum_list = a_list + b_list\n",
    "print(sum_list)\n"
   ]
  },
  {
   "cell_type": "code",
   "execution_count": 17,
   "metadata": {},
   "outputs": [
    {
     "name": "stdout",
     "output_type": "stream",
     "text": [
      "['a', 'b', 'c', 'a', 'b', 'c', 'a', 'b', 'c']\n"
     ]
    }
   ],
   "source": [
    "# 列表乘法。\n",
    "my_list = ['a', 'b', 'c']\n",
    "mul_list = my_list * 3\n",
    "print(mul_list)\n"
   ]
  },
  {
   "cell_type": "code",
   "execution_count": 18,
   "metadata": {},
   "outputs": [
    {
     "name": "stdout",
     "output_type": "stream",
     "text": [
      "True\n",
      "False\n"
     ]
    }
   ],
   "source": [
    "# 使用in运算符：判断列表中元素是否存在。\n",
    "my_list = ['a', 'b', 'c']\n",
    "print('a' in my_list)\n",
    "print('b' not in my_list)\n"
   ]
  },
  {
   "cell_type": "markdown",
   "metadata": {},
   "source": [
    "### 字典"
   ]
  },
  {
   "cell_type": "code",
   "execution_count": 19,
   "metadata": {},
   "outputs": [
    {
     "name": "stdout",
     "output_type": "stream",
     "text": [
      "{'a': 10, 'b': 20, 'c': 30}\n"
     ]
    }
   ],
   "source": [
    "# \t字典：为了保存具有映射关系的数据，Python提供了字典，字典相当于保存了两组数据，其中一组数据是关键数据，被称为Key，另一组数据可通过Key来访问，被称为value。\n",
    "# 字典中的key是非常关键的数据，程序对字典的基本操作，如访问value值，添加键值对等，都是通过Key实现的，因此字典中的Key不允许重复。\n",
    "dict1 = {'a': 10, 'b': 20, 'c': 30}\n",
    "print(dict1)\n"
   ]
  },
  {
   "cell_type": "code",
   "execution_count": 20,
   "metadata": {},
   "outputs": [
    {
     "name": "stdout",
     "output_type": "stream",
     "text": [
      "10\n"
     ]
    }
   ],
   "source": [
    "#     通过Key访问value。\n",
    "dict1 = {'a': 10, 'b': 20, 'c': 30}\n",
    "print(dict1['a'])\n"
   ]
  },
  {
   "cell_type": "code",
   "execution_count": 21,
   "metadata": {},
   "outputs": [
    {
     "name": "stdout",
     "output_type": "stream",
     "text": [
      "{'a': 10, 'b': 20, 'c': 30}\n",
      "{'a': 10, 'b': 20, 'c': 30, 'd': 40}\n"
     ]
    }
   ],
   "source": [
    "# 通过Key添加key-value对，对若dict中不存在的key值进行赋值，则增加key-value对。\n",
    "dict1 = {'a': 10, 'b': 20, 'c': 30}\n",
    "print(dict1)\n",
    "dict1['d'] = 40\n",
    "print(dict1)\n"
   ]
  },
  {
   "cell_type": "code",
   "execution_count": 22,
   "metadata": {},
   "outputs": [
    {
     "name": "stdout",
     "output_type": "stream",
     "text": [
      "{'a': 10, 'b': 20, 'c': 30}\n",
      "{'b': 20, 'c': 30}\n"
     ]
    }
   ],
   "source": [
    "# 通过Key删除key-value对，使用del语句删除key-value对。\n",
    "dict1 = {'a': 10, 'b': 20, 'c': 30}\n",
    "print(dict1)\n",
    "del dict1['a']\n",
    "print(dict1)\n"
   ]
  },
  {
   "cell_type": "code",
   "execution_count": 23,
   "metadata": {},
   "outputs": [
    {
     "name": "stdout",
     "output_type": "stream",
     "text": [
      "{'a': 10, 'b': 20, 'c': 30}\n",
      "{'a': 40, 'b': 20, 'c': 30}\n"
     ]
    }
   ],
   "source": [
    "# 通过Key修改key-value对，对存在的key-value对赋值，改变key-value对。\n",
    "dict1 = {'a': 10, 'b': 20, 'c': 30}\n",
    "print(dict1)\n",
    "dict1['a'] = 40\n",
    "print(dict1) \n"
   ]
  },
  {
   "cell_type": "code",
   "execution_count": 24,
   "metadata": {},
   "outputs": [
    {
     "name": "stdout",
     "output_type": "stream",
     "text": [
      "True\n",
      "False\n"
     ]
    }
   ],
   "source": [
    "# 通过Key判断指定的key-value对是否存在，要判断字典是否包含指定的Key,则可以使用in或not in运算符。\n",
    "dict1 = {'a': 10, 'b': 20, 'c': 30}\n",
    "print('a' in dict1)\n",
    "print('b' not in dict1)\n"
   ]
  },
  {
   "cell_type": "markdown",
   "metadata": {},
   "source": [
    "## 任务五 分支语句"
   ]
  },
  {
   "cell_type": "code",
   "execution_count": 29,
   "metadata": {},
   "outputs": [
    {
     "name": "stdout",
     "output_type": "stream",
     "text": [
      "中年\n"
     ]
    }
   ],
   "source": [
    "age = 45\n",
    "if age >= 60:\n",
    "   print(\"老年\")\n",
    "elif age > 40 and age < 60:\n",
    "   print(\"中年\")\n",
    "elif age > 20:\n",
    "   print(\"青年\")\n"
   ]
  },
  {
   "cell_type": "markdown",
   "metadata": {},
   "source": [
    "## 任务 六 循环结构"
   ]
  },
  {
   "cell_type": "code",
   "execution_count": 30,
   "metadata": {},
   "outputs": [
    {
     "name": "stdout",
     "output_type": "stream",
     "text": [
      "count: 0\n",
      "count: 1\n",
      "count: 2\n",
      "count: 3\n",
      "count: 4\n",
      "count: 5\n",
      "count: 6\n",
      "count: 7\n",
      "count: 8\n",
      "end\n"
     ]
    }
   ],
   "source": [
    "i = 0\n",
    "while i < 9:\n",
    "    print(\"count:\", i)\n",
    "    i += 1\n",
    "print('end')\n"
   ]
  },
  {
   "cell_type": "code",
   "execution_count": 31,
   "metadata": {},
   "outputs": [
    {
     "ename": "SyntaxError",
     "evalue": "invalid syntax (<ipython-input-31-f0ed9080c609>, line 1)",
     "output_type": "error",
     "traceback": [
      "\u001b[0;36m  File \u001b[0;32m\"<ipython-input-31-f0ed9080c609>\"\u001b[0;36m, line \u001b[0;32m1\u001b[0m\n\u001b[0;31m    for i in range(5, 0 , -1)\u001b[0m\n\u001b[0m                              ^\u001b[0m\n\u001b[0;31mSyntaxError\u001b[0m\u001b[0;31m:\u001b[0m invalid syntax\n"
     ]
    }
   ],
   "source": [
    "for i in range(5, 0 , -1):\n",
    "    print(i)\n"
   ]
  },
  {
   "cell_type": "markdown",
   "metadata": {},
   "source": [
    "## 任务七 函数"
   ]
  },
  {
   "cell_type": "code",
   "execution_count": 32,
   "metadata": {},
   "outputs": [
    {
     "name": "stdout",
     "output_type": "stream",
     "text": [
      "6\n"
     ]
    }
   ],
   "source": [
    "# 定义和调用函数。\n",
    "# 函数是指为一段实现特定功能的代码“取”一个名字，以后即可通过该名字来执行（调用）该函数\n",
    "def max(x, y):\n",
    "    z = x if x > y else y\n",
    "    return z\n",
    "\n",
    "a = 6\n",
    "b = 5\n",
    "result = max(a, b)\n",
    "print(result)\n"
   ]
  },
  {
   "cell_type": "code",
   "execution_count": 33,
   "metadata": {},
   "outputs": [
    {
     "name": "stdout",
     "output_type": "stream",
     "text": [
      "Help on function max in module __main__:\n",
      "\n",
      "max(x, y)\n",
      "    最两个值中的最大值\n",
      "\n",
      "\n",
      "    最两个值中的最大值\n",
      "    \n"
     ]
    }
   ],
   "source": [
    "# 通过help()函数：查看函数的说明文档。\n",
    "def max(x, y):\n",
    "    \"\"\"\n",
    "    最两个值中的最大值\n",
    "    \"\"\"\n",
    "    z = x if x > y else y\n",
    "    return z\n",
    "\n",
    "help(max)\n",
    "print(max.__doc__)\n"
   ]
  },
  {
   "cell_type": "code",
   "execution_count": 34,
   "metadata": {},
   "outputs": [
    {
     "name": "stdout",
     "output_type": "stream",
     "text": [
      "5050\n"
     ]
    }
   ],
   "source": [
    "# 递归函数：一个函数体内调用它自身，被称为函数递归。\n",
    "def sum(n):\n",
    "    if n>0:\n",
    "       return n +sum(n-1)\n",
    "    else:\n",
    "       return 0\n",
    "\n",
    "print(sum(100))\n"
   ]
  },
  {
   "cell_type": "markdown",
   "metadata": {},
   "source": [
    "## 任务八 类和对象"
   ]
  },
  {
   "cell_type": "code",
   "execution_count": 35,
   "metadata": {},
   "outputs": [
    {
     "name": "stdout",
     "output_type": "stream",
     "text": [
      "MyClass 类的属性 i 为： 12345\n",
      "MyClass 类的方法 f 输出为： hello world\n"
     ]
    }
   ],
   "source": [
    "# 类：类是某一批对象的抽象，可以把类理解成某种概念，使用class定义类。\n",
    "# 类对象：对象是一个具体的存在的实体。\n",
    "\n",
    "class MyClass:\n",
    "    \"\"\"一个简单的类实例\"\"\"\n",
    "    i = 12345\n",
    "    def f(self):\n",
    "        return 'hello world'\n",
    " \n",
    "# 实例化类\n",
    "x = MyClass()\n",
    " \n",
    "# 访问类的属性和方法\n",
    "print(\"MyClass 类的属性 i 为：\", x.i)\n",
    "print(\"MyClass 类的方法 f 输出为：\", x.f())\n"
   ]
  },
  {
   "cell_type": "code",
   "execution_count": 36,
   "metadata": {},
   "outputs": [
    {
     "name": "stdout",
     "output_type": "stream",
     "text": [
      "Michael说: 我18岁。\n"
     ]
    }
   ],
   "source": [
    "# 类方法：用于定义该类的对象的行为或功能实现。\n",
    "#类定义\n",
    "class people:\n",
    "    #定义基本属性\n",
    "    name = ''\n",
    "    age = 0\n",
    "    #定义私有属性,私有属性在类外部无法直接进行访问\n",
    "    __weight = 0\n",
    "    #定义构造方法\n",
    "    def __init__(self,n,a,w):\n",
    "        self.name = n\n",
    "        self.age = a\n",
    "        self.__weight = w\n",
    "    def speak(self):\n",
    "        print(\"%s说: 我%d岁。\" %(self.name,self.age))\n",
    "\n",
    "p = people('Michael', 18, 60)\n",
    "p.speak()\n"
   ]
  },
  {
   "cell_type": "code",
   "execution_count": null,
   "metadata": {},
   "outputs": [],
   "source": []
  },
  {
   "cell_type": "code",
   "execution_count": null,
   "metadata": {},
   "outputs": [],
   "source": []
  },
  {
   "cell_type": "code",
   "execution_count": null,
   "metadata": {},
   "outputs": [],
   "source": []
  }
 ],
 "metadata": {
  "kernelspec": {
   "display_name": "Python 3",
   "language": "python",
   "name": "python3"
  },
  "language_info": {
   "codemirror_mode": {
    "name": "ipython",
    "version": 3
   },
   "file_extension": ".py",
   "mimetype": "text/x-python",
   "name": "python",
   "nbconvert_exporter": "python",
   "pygments_lexer": "ipython3",
   "version": "3.7.6"
  }
 },
 "nbformat": 4,
 "nbformat_minor": 4
}
