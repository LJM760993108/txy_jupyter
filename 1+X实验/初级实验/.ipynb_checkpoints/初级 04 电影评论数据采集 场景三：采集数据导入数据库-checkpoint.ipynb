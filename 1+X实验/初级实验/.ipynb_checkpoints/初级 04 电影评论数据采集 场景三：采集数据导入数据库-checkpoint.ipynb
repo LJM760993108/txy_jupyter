{
 "cells": [
  {
   "cell_type": "markdown",
   "metadata": {},
   "source": [
    "# 场景 一 二"
   ]
  },
  {
   "cell_type": "code",
   "execution_count": 3,
   "metadata": {},
   "outputs": [
    {
     "name": "stdout",
     "output_type": "stream",
     "text": [
      "200\n",
      "<class 'str'>\n"
     ]
    }
   ],
   "source": [
    "# 场景一 目标站点网页分析\n",
    "\n",
    "## 任务一 向站点发送请求\n",
    "\n",
    "### 步骤 1\t导入网页请求库requests\n",
    "\n",
    "# requests是Python中的HTTP库，在导入requests库之前，需确认在Python中已安装。\n",
    "import requests\n",
    "from requests.exceptions import RequestException\n",
    "\n",
    "\n",
    "### 步骤 2\t配置请求信息\n",
    "\n",
    "\n",
    "# 通过requests.get(url,headers)方法请求网页，其中传入的参数是url和headers。\n",
    "# \turl：目标站点地址信息；\n",
    "# \theaders：浏览器信息，若不添加headers信息，服务器无法识别浏览器信息，则将该请求视为非法请求，无法获取正常的响应结果。最后打印出状态码status_code的返回结果。注意：每个浏览器的请求信息不同，需要根据实际情况传入该参数信息。\n",
    "url = 'https://movie.douban.com/subject/27119724/comments?sort=new_score&status=P'\n",
    "headers = {\n",
    "        'User-Agent':'Mozilla/5.0(Macintosh;Intel Mac OS X 10_14_6)AppleWebKit/537.36(KHTML, like Gecko)Chrome/79.0.3945.130Safari/537.36' }\n",
    "response = requests.get(url,headers = headers)\n",
    "print(response.status_code)\n",
    "\n",
    "\n",
    "## 任务二获取网页内容\n",
    "\n",
    "\n",
    "# 获取网页内容。\n",
    "# \trequests.get()方法请求返回参数text获取网页源代码内容。\n",
    "html = response.text\n",
    "print(type(response.text))\n",
    "\n",
    "\n",
    "## 任务三 网页结构 解析\n",
    "\n",
    "\n",
    "# 请根据网页内容在下表中填写采集数据字段用户名、评论时间、评论内容的标签信息：\n",
    "# 字段\t标签名称\t标签类型\n",
    "# user\t\t\n",
    "# time\t\t\n",
    "# comment\t\t\n",
    "\n",
    "# 【参考答案】\n",
    "# 字段\t标签名称\t标签类型\n",
    "# user\t<a>\tNull\n",
    "# time\t<span>\tcomment-time\n",
    "# comment\t<span>\tshort\n",
    "\n",
    "\n",
    "## 任务四 构造网页获取函数\n",
    "\n",
    "\n",
    "# 构造网页获取函数。\n",
    "# 将以上代码封装为函数，以便于多次调用，自定义函数名称为get_page()，将url作为传入参数。在函数体中，使用if条件语句判断响应状态，若状态码为正常，则返回网页内容；若网页请求失败，则返回None。\n",
    "def get_page(url):\n",
    "    headers = {\n",
    "        'User-Agent':'Mozilla/5.0(Macintosh;Intel Mac OS X 10_14_6)AppleWebKit/537.36(KHTML, like Gecko)Chrome/79.0.3945.130Safari/537.36'\n",
    "        }\n",
    "    try:\n",
    "        response = requests.get(url,headers=headers)\n",
    "        if response.status_code == 200:\n",
    "            return response.text\n",
    "        return None\n",
    "    except RequestException:\n",
    "        return None\n",
    "\n",
    "# 场景二\n",
    "\n",
    "## 任务一 网页解析\n",
    "\n",
    "### 步骤 1\t导入BeautifulSoup库\n",
    "\n",
    "\n",
    "# 本次实验采用BeautifulSoup库对网页进行解析，相比于直接提取和正则表达式匹配的方法，\n",
    "# 使用BeautifulSoup更加简洁、高效，导入前需确认已安装BeautifulSoup库。\n",
    "from bs4 import BeautifulSoup\n",
    "\n",
    "\n",
    "## 步骤 2\t解析网页\n",
    "\n",
    "\n",
    "# 声明BeautifulSoup对象为soup，并传入html代码和解析方式，BeautifulSoup提供以下4种解析库：\n",
    "# 解析器\t使用方法\t说明\n",
    "# Python标准库\tBeautifulSoup(makeup,”html.parser”)\tPython的内置标准库\n",
    "# lxml HTML解析器\tBeautifulSoup(makeup,”lxml”)\t常用HTML代码解析器\n",
    "# lxml XML解析器\tBeautifulSoup(makeup,”xml”)\t唯一支持XML的解析器\n",
    "# html5lib\tBeautifulSoup(makeup,”html5lib”)\t以浏览器的方式解析文档并生成HTML5格式的文档\n",
    "soup = BeautifulSoup(html, 'lxml')\n",
    "\n",
    "\n",
    "## 任务二 网页数值提取\n",
    "\n",
    "### 步骤 1\t提取数据\n",
    "\n",
    "# \tfind_all()：查找标签，通过class_设置标签类型，class_=\"comment\"和attrs={\"class\": \"comment-info\"}两种写法实现结果相同。\n",
    "# 注意：class在Python中属于关键字， 因此class需要添加下划线。\n",
    "\n",
    "items = soup.find_all(\"div\", class_=\"comment\")\n",
    "for item in items:\n",
    "    info = item.find_all(name='span', attrs={\"class\": \"comment-info\"})\n",
    "    for users in info:\n",
    "        user = users.find_all(name='a', attrs={\"class\": \"\"})[0].string\n",
    "\n",
    "\n",
    "### 步骤 2\t生成格式化数据\n",
    "\n",
    "\n",
    "# \tyield{}：yield方法为生成器，迭代地将数据返回结果写入字典中；\n",
    "# \tstrip()：strip方法用于去掉字符串中多余的空格。\n",
    "def parse_page(html):\n",
    "    soup = BeautifulSoup(html, 'lxml')\n",
    "    items = soup.find_all(\"div\", class_=\"comment\")\n",
    "    for item in items:\n",
    "        info = item.find_all(name='span', attrs={\"class\": \"comment-info\"})\n",
    "        for users in info:\n",
    "            user = users.find_all(name='a', attrs={\"class\": \"\"})[0].string\n",
    "        yield{\n",
    "            \"user\":user,\n",
    "            \"time\":item.find_all(name='span', attrs={\"class\":\"comment-time\"})[0].string.strip(),\n",
    "            \"comment\":item.find_all(name='span', attrs={\"class\":\"short\"})[0].string\n",
    "        }\n",
    "\n",
    "\n",
    "\n",
    "\n"
   ]
  },
  {
   "cell_type": "markdown",
   "metadata": {},
   "source": [
    "# 场景 三 采集数据导入数据库"
   ]
  },
  {
   "cell_type": "markdown",
   "metadata": {},
   "source": [
    "## 任务一 数据库配置"
   ]
  },
  {
   "cell_type": "code",
   "execution_count": null,
   "metadata": {},
   "outputs": [],
   "source": [
    "\n",
    "# 启动MondoDB数据库。\n",
    "# 启动数据库前请确认已安装MongoDB数据库，并已配置好系统环境变量。具体安装操作请参考附件《基于华为云的1+X项目应用开发软件安装参考手册》。\n",
    "# 进入命令提示符界面输入以下命令：\n",
    "# \t--dpath:指定数据库路径。\n",
    "# mongod –dpath ‘数据库路径’\n",
    "# 数据库启动后打开浏览器，输入数据库地址信息，如：localhost：27017，默认端口号为27017，\n",
    "# 若页面信息提示：It looks like you are trying to access MongoDB over HTTP on the native driver port，则数据库启动成功。\n"
   ]
  },
  {
   "cell_type": "markdown",
   "metadata": {},
   "source": [
    "## 任务二 导入pymongo库。"
   ]
  },
  {
   "cell_type": "code",
   "execution_count": 1,
   "metadata": {},
   "outputs": [],
   "source": [
    "# pymongo库用于Python操作MongoDB数据库，导入之前需确认已正确安装pymongo库。\n",
    "import pymongo\n",
    "\n",
    "# 创建链接。\n",
    "# \tpymongo.MongoClient():创建数据库连接对象，并传入数据库地址信息；\n",
    "# \tmongo_url:数据库地址；\n",
    "# \tmongo_db:数据库名称；\n",
    "# \tmongo_table:表名称。\n",
    "mongo_url = \"118.25.57.174\"\n",
    "mongo_db = \"movie\"\n",
    "mongo_table = \"comment\"\n",
    "client = pymongo.MongoClient(mongo_url)\n",
    "db = client[mongo_db]\n",
    "\n",
    "\n"
   ]
  },
  {
   "cell_type": "code",
   "execution_count": 4,
   "metadata": {},
   "outputs": [
    {
     "name": "stdout",
     "output_type": "stream",
     "text": [
      "Successful {'user': '谋杀游戏机', 'time': '2019-08-31', 'comment': '完全不是超英片，就是一个以普通底层小市民为主角的犯罪片，大概也是这些年漫威DC所有电影里人性剖析最深刻的一部。影片对哥谭市有着出色的氛围营造，阴暗潮湿的道路，满目垃圾的街头，一触即发的暴动气息，这样的环境，再加上悲惨的身世、糟糕的一天，足以把一个老实的可怜人逼向深渊，从理性善良一点点变得麻木和疯癫，每一步转变都真实可信。杰昆·菲尼克斯瘦骨嶙峋的样子让人心疼，毫无疑问，影帝级的表演，“希斯·莱杰后再无小丑”的话可以收回了。', '_id': ObjectId('5f068f2f755284fc0c521465')}\n",
      "Successful {'user': '小小明月几时有', 'time': '2019-09-04', 'comment': '漫威:制造一个大坏蛋，首先要给他超高的智慧，强大的肉体，绝顶的战斗技能，对了，还有无限宝石\\n\\n DC: 给他一个糟糕的人生吧', '_id': ObjectId('5f068f2f755284fc0c521466')}\n",
      "Successful {'user': 'ryan', 'time': '2019-09-02', 'comment': '30年前，制造小丑需要推进化学池；\\n30年后，制造小丑只需要推进社会。', '_id': ObjectId('5f068f2f755284fc0c521467')}\n",
      "Successful {'user': '今天道', 'time': '2019-10-03', 'comment': '我在hk看的。听到了后面的掌声，有点害怕。', '_id': ObjectId('5f068f2f755284fc0c521468')}\n",
      "Successful {'user': '桃桃林林', 'time': '2019-10-03', 'comment': '9分，菲尼克斯值得一座奥斯卡，表演太带情绪了，以无法抑制的狂笑表达痛苦，竟然笑到让人难过。影片与之前大部分超级英雄电影截然不同，没有特效、没有奇观、甚至没太多动作场面。而是以略复古的方式，讲小丑为什么会成为那个小丑。其实是挺严肃的一部片子，包括去关注社会问题。片子还挺邪恶的，会让你有些同情这个小丑。另外，这片应该是无法续集和衍生，因为还是太实了，如果这个角色重新漫画化，也就不再是他了。', '_id': ObjectId('5f068f2f755284fc0c521469')}\n",
      "Successful {'user': '魂', 'time': '2019-10-03', 'comment': '【C+】本子实在是太拖后腿，很多篇幅似乎只是为了给凤凰留些表现的空间于是无头无尾，以及能看出导演能力还是有些欠缺难支撑起野心。给差评的原因无非就是不行不好看，然后感觉也没好多说的。某些美媒的评价真是让看完影片后的我懵逼，一些明摆着的缺点不说，非得从枪支暴力、社会影响的角度切入来打差评（看完这些评价我一度以为佳作稳了）。这片若是都称得上极具煽动性，那DC早年黑暗骑士啥的都得当禁片看了。', '_id': ObjectId('5f068f2f755284fc0c52146a')}\n",
      "Successful {'user': 'TWY', 'time': '2019-10-04', 'comment': '华金演绎的小丑固然精彩，但从导演不相信小丑可以从化学池里诞生这件事中，大概能看出他并不是很相信影像，所以只好大搞心理现实主义的mumbo jumbo，然而最终还是只能用大量堆砌的刻板印象制造冲突来推动故事发生。', '_id': ObjectId('5f068f2f755284fc0c52146b')}\n",
      "Successful {'user': '保卫胡萝卜', 'time': '2019-09-10', 'comment': '再也不要有人跳出来把DC和漫威比了，这已经是金狮体系了。', '_id': ObjectId('5f068f2f755284fc0c52146c')}\n",
      "Successful {'user': '大島', 'time': '2019-11-12', 'comment': '变成职业精神病后果然精神好多了', '_id': ObjectId('5f068f2f755284fc0c52146d')}\n",
      "Successful {'user': '同志亦凡人中文站', 'time': '2019-10-04', 'comment': '社会的疯狂带来反社会的集体疯狂，只需要糟糕的一天，人人皆可成为小丑。坦白说，“因为压迫、所以作恶”的命题已经不算新鲜了，但杰昆·菲尼克斯一步登天的方法派表演升华了整部电影！他的肢体和表情，完美告诉了世人什么是密不透风的绝对黑暗~', '_id': ObjectId('5f068f2f755284fc0c52146e')}\n",
      "Successful {'user': '黄青蕉', 'time': '2019-11-10', 'comment': '看看社会都把搞喜剧的逼成啥样了！大家善良一点，听到不好笑的笑话多多包容，少疯一个对大噶都有好处', '_id': ObjectId('5f068f2f755284fc0c52146f')}\n",
      "Successful {'user': '私~川流', 'time': '2019-08-31', 'comment': '这才叫DC，谢谢。', '_id': ObjectId('5f068f2f755284fc0c521470')}\n",
      "Successful {'user': '陀螺凡达可', 'time': '2019-08-31', 'comment': '4.5 在《黑暗骑士》公映的十一年后，终于有一部能与之相提并论的同类电影了。扭曲，震撼，一次进入深渊本体的角色研究，一场庆祝疯狂和悲剧的黑暗大狂欢。凤凰的表演是碾压式的，奖项根本hold不住。', '_id': ObjectId('5f068f2f755284fc0c521471')}\n",
      "Successful {'user': '踢迩达', 'time': '2019-08-31', 'comment': '#Venezia 12“希斯·莱杰之后无小丑“这个论述终于是被打破了。这是当代电影史的光荣日。', '_id': ObjectId('5f068f2f755284fc0c521472')}\n",
      "Successful {'user': '蛋堡的波特', 'time': '2019-08-31', 'comment': '這不是一部好的「小丑」電影，因為它背離了小丑這個角色混亂且無法預知的本質，給了小丑一個悲劇性但可追根溯源的原因。但這並不妨礙本片成為一部好電影，這是一部脫離了超級英雄般超現實主義的犯罪電影，無時無刻不在對觀眾進行mind fuck，直到最後集體高潮。杰昆·菲尼克斯獨特的表演賦予了這個小丑充滿矛盾与痛苦的悲劇性的藝術人格，我已經可以預見他橫掃頒獎季的場面了。正如犯罪經典《出租車司機》一樣，《小丑》是這個時代不二的選擇。', '_id': ObjectId('5f068f2f755284fc0c521473')}\n",
      "Successful {'user': 'Fly you fool！', 'time': '2019-08-31', 'comment': 'Life is a tragedy when seen in close-up, but a comedy in long-shot.\\n\\n-- Charlie Chaplin\\n\\n人生近看是场悲剧，但从长远来看却是场喜剧。——查理卓别林', '_id': ObjectId('5f068f2f755284fc0c521474')}\n",
      "Successful {'user': '嘟嘟熊之父', 'time': '2019-10-09', 'comment': '究竟谁是反派？是漫画里先入为主道德沦丧的小丑？是被煽动杀光富人颠覆权力的无政府主义？是居高临下何不食肉糜的精英权贵？还是以阶级分化为轮轴带动社会高速运转的系统本身？表面上是意识形态的尖锐对抗，是小丑不堪的灵魂被一片片撕碎，是将病症视为解药的以毒攻毒；内核却是政治立场的颠倒混淆，是小丑破碎的人格被一点点重塑，是漫长的以疗愈为名的禁锢终获正名。你认为谁是反派决定了你身在何处，而千千万万我们所处的位置决定了这个严丝合缝又千疮百孔的世界将迈向何方。《小丑》发出的质问振聋发聩，但对于所有问题，它无力解答。', '_id': ObjectId('5f068f2f755284fc0c521475')}\n",
      "Successful {'user': '王大根', 'time': '2019-11-10', 'comment': '《摩登家庭》试镜落选之后', '_id': ObjectId('5f068f2f755284fc0c521476')}\n",
      "Successful {'user': 'heliostar', 'time': '2019-08-31', 'comment': '看完世界首映激动的打卡！剧情节奏感满分，内涵思考张力满分，艺术戏剧性满分，人物塑造满分。\\n所有奥斯卡大奖给它都不过分，因为此片足够划时代的宣布，超级英雄的时代结束了。', '_id': ObjectId('5f068f2f755284fc0c521477')}\n",
      "Successful {'user': '芦哲峰', 'time': '2019-11-11', 'comment': '在这样一个反派为主角的电影里，几乎没有正面角色，上流社会冷漠虚伪，下流社会残忍愚痴。恰如陈寅恪所言：上诈而下愚。所有被侮辱与被损害、被欺凌与被压榨的人，一旦扭曲疯狂，都有可能成为小丑。因此，本片也是一则警世通言。如今，DC已经拍出了《守望者》《黑暗骑士》和《小丑》这样的杰作，反观漫威，还在拍主题公园式的爆米花片。二者虽齐名于当下，却如云泥相望悬。', '_id': ObjectId('5f068f2f755284fc0c521478')}\n"
     ]
    },
    {
     "name": "stderr",
     "output_type": "stream",
     "text": [
      "/root/anaconda3/lib/python3.7/site-packages/ipykernel_launcher.py:4: DeprecationWarning: insert is deprecated. Use insert_one or insert_many instead.\n",
      "  after removing the cwd from sys.path.\n"
     ]
    }
   ],
   "source": [
    "# 创建数据库写入函数。\n",
    "# 使用insert()方法向数据库中插入数据。\n",
    "def save_to_mongo(content):\n",
    "    if db[mongo_table].insert(content):\n",
    "        print('Successful', content)\n",
    "        return True\n",
    "    return False\n",
    "for i in parse_page(html):\n",
    "    save_to_mongo(i)"
   ]
  },
  {
   "cell_type": "code",
   "execution_count": null,
   "metadata": {},
   "outputs": [],
   "source": []
  }
 ],
 "metadata": {
  "kernelspec": {
   "display_name": "Python 3",
   "language": "python",
   "name": "python3"
  },
  "language_info": {
   "codemirror_mode": {
    "name": "ipython",
    "version": 3
   },
   "file_extension": ".py",
   "mimetype": "text/x-python",
   "name": "python",
   "nbconvert_exporter": "python",
   "pygments_lexer": "ipython3",
   "version": "3.7.6"
  }
 },
 "nbformat": 4,
 "nbformat_minor": 4
}
