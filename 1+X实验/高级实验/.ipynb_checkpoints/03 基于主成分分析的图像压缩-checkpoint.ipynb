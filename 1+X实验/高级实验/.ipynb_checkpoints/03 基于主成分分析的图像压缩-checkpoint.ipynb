{
 "cells": [
  {
   "cell_type": "markdown",
   "metadata": {},
   "source": [
    "# 场景一 图像处理"
   ]
  },
  {
   "cell_type": "markdown",
   "metadata": {},
   "source": [
    "## 任务一 安装处理模块"
   ]
  },
  {
   "cell_type": "code",
   "execution_count": 1,
   "metadata": {},
   "outputs": [],
   "source": [
    "# 安装图像处理库\n",
    "# 使用命令pip install Pillow安装Pillow库。\n",
    "# \t图像处理库PIL(Python Image Library)\n",
    "import numpy as np\n",
    "from PIL import Image\n",
    "from sklearn.decomposition import PCA\n",
    "\n",
    "# from sklearn.decomposition import PCA\n"
   ]
  },
  {
   "cell_type": "markdown",
   "metadata": {},
   "source": [
    "## 任务二 定义载入函数"
   ]
  },
  {
   "cell_type": "code",
   "execution_count": 2,
   "metadata": {},
   "outputs": [],
   "source": [
    "# 定义载入函数\n",
    "# 使用测试图片：“PCA_IMAGE”(见实验数据)；\n",
    "# 设置图片路径为：path；\n",
    "# \t载入函数定义加载图片的功能。\n",
    "# \t用载入函数将图片转换成灰度图像\n",
    "def loadImage(path):\n",
    "    img = Image.open(path)\n",
    "    # 将图像转换成灰度图\n",
    "    img = img.convert(\"L\")\n",
    "    # 图像的大小在size中是（宽，高）\n",
    "    # 所以width取size的第一个值，height取第二个\n",
    "    width = img.size[0]\n",
    "    height = img.size[1]\n",
    "    data = img.getdata()\n",
    "    # 为了避免溢出，这里对数据进行一个缩放，缩小100倍\n",
    "    data = np.array(data).reshape(height,width)/100\n",
    "    # 查看原图的话，需要还原数据\n",
    "    new_im = Image.fromarray(data*100)\n",
    "    new_im.show()\n",
    "    return data\n"
   ]
  },
  {
   "cell_type": "markdown",
   "metadata": {},
   "source": [
    "## 任务三\t定义损失函数"
   ]
  },
  {
   "cell_type": "code",
   "execution_count": 4,
   "metadata": {},
   "outputs": [],
   "source": [
    "# 虽然得到了降维后的图像，但是怎么知道我们降维后的图像保留了多小信息呢？\n",
    "# 根据误差计算出降维后的图像保留了多少信息。\n",
    "def error(data,recdata):\n",
    "    sum1 = 0\n",
    "    sum2 = 0\n",
    "    # 计算两幅图像之间的差值矩阵\n",
    "    D_value = data - recdata\n",
    "    # 计算两幅图像之间的误差率，即信息丢失率\n",
    "    for i in range(data.shape[0]):\n",
    "        sum1 += np.dot(data[i],data[i])\n",
    "        sum2 += np.dot(D_value[i], D_value[i])\n",
    "    error = sum2/sum1\n",
    "    print(sum2, sum1, error)\n"
   ]
  },
  {
   "cell_type": "markdown",
   "metadata": {},
   "source": [
    "# 场景二 功能测试"
   ]
  },
  {
   "cell_type": "code",
   "execution_count": 7,
   "metadata": {},
   "outputs": [
    {
     "ename": "NameError",
     "evalue": "name 'PCA' is not defined",
     "output_type": "error",
     "traceback": [
      "\u001b[0;31m---------------------------------------------------------------------------\u001b[0m",
      "\u001b[0;31mNameError\u001b[0m                                 Traceback (most recent call last)",
      "\u001b[0;32m<ipython-input-7-326b5777df3b>\u001b[0m in \u001b[0;36m<module>\u001b[0;34m\u001b[0m\n\u001b[1;32m      1\u001b[0m \u001b[0;32mif\u001b[0m \u001b[0m__name__\u001b[0m \u001b[0;34m==\u001b[0m \u001b[0;34m'__main__'\u001b[0m\u001b[0;34m:\u001b[0m\u001b[0;34m\u001b[0m\u001b[0;34m\u001b[0m\u001b[0m\n\u001b[1;32m      2\u001b[0m     \u001b[0mdata\u001b[0m \u001b[0;34m=\u001b[0m \u001b[0mloadImage\u001b[0m\u001b[0;34m(\u001b[0m\u001b[0;34m\"./data/PCA_IMAGE.jpg\"\u001b[0m\u001b[0;34m)\u001b[0m\u001b[0;34m\u001b[0m\u001b[0;34m\u001b[0m\u001b[0m\n\u001b[0;32m----> 3\u001b[0;31m     \u001b[0mpca\u001b[0m \u001b[0;34m=\u001b[0m \u001b[0mPCA\u001b[0m\u001b[0;34m(\u001b[0m\u001b[0mn_components\u001b[0m\u001b[0;34m=\u001b[0m\u001b[0;36m10\u001b[0m\u001b[0;34m)\u001b[0m\u001b[0;34m.\u001b[0m\u001b[0mfit\u001b[0m\u001b[0;34m(\u001b[0m\u001b[0mdata\u001b[0m\u001b[0;34m)\u001b[0m\u001b[0;34m\u001b[0m\u001b[0;34m\u001b[0m\u001b[0m\n\u001b[0m\u001b[1;32m      4\u001b[0m     \u001b[0;31m# 降维\u001b[0m\u001b[0;34m\u001b[0m\u001b[0;34m\u001b[0m\u001b[0;34m\u001b[0m\u001b[0m\n\u001b[1;32m      5\u001b[0m     \u001b[0mx_new\u001b[0m \u001b[0;34m=\u001b[0m \u001b[0mpca\u001b[0m\u001b[0;34m.\u001b[0m\u001b[0mtransform\u001b[0m\u001b[0;34m(\u001b[0m\u001b[0mdata\u001b[0m\u001b[0;34m)\u001b[0m\u001b[0;34m\u001b[0m\u001b[0;34m\u001b[0m\u001b[0m\n",
      "\u001b[0;31mNameError\u001b[0m: name 'PCA' is not defined"
     ]
    }
   ],
   "source": [
    "if __name__ == '__main__':\n",
    "    data = loadImage(\"./data/PCA_IMAGE.jpg\")\n",
    "    pca = PCA(n_components=10).fit(data)\n",
    "    # 降维\n",
    "    x_new = pca.transform(data)\n",
    "    # 还原降维后的数据到原空间\n",
    "    recdata = pca.inverse_transform(x_new)\n",
    "    # 计算误差\n",
    "    error(data, recdata)\n",
    "    # 还原降维后的数据\n",
    "    newImg = Image.fromarray(recdata*100)\n",
    "    newImg.show()\n",
    "    # error(data, recdata)\n"
   ]
  },
  {
   "cell_type": "code",
   "execution_count": null,
   "metadata": {},
   "outputs": [],
   "source": []
  }
 ],
 "metadata": {
  "kernelspec": {
   "display_name": "Python 3",
   "language": "python",
   "name": "python3"
  },
  "language_info": {
   "codemirror_mode": {
    "name": "ipython",
    "version": 3
   },
   "file_extension": ".py",
   "mimetype": "text/x-python",
   "name": "python",
   "nbconvert_exporter": "python",
   "pygments_lexer": "ipython3",
   "version": "3.7.6"
  }
 },
 "nbformat": 4,
 "nbformat_minor": 4
}
