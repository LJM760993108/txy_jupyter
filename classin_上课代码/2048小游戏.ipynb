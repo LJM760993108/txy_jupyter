{
 "cells": [
  {
   "cell_type": "markdown",
   "metadata": {},
   "source": [
    "## 1） 生成4*4的棋盘， 其中数据结构为列表嵌套列表\n",
    "\n"
   ]
  },
  {
   "cell_type": "code",
   "execution_count": 1,
   "metadata": {},
   "outputs": [
    {
     "name": "stdout",
     "output_type": "stream",
     "text": [
      "[[0, 0, 0, 0], [0, 0, 0, 0], [0, 0, 0, 0], [0, 0, 0, 0]]\n"
     ]
    }
   ],
   "source": [
    "li = [[0 for j in range(4)] for i in range(4)]\n",
    "print(li)\n",
    "# https://blog.csdn.net/weixin_42668123/article/details/82381568?utm_medium=distribute.pc_relevant.none-task-blog-BlogCommendFromMachineLearnPai2-3.nonecase&depth_1-utm_source=distribute.pc_relevant.none-task-blog-BlogCommendFromMachineLearnPai2-3.nonecase"
   ]
  },
  {
   "cell_type": "markdown",
   "metadata": {},
   "source": [
    "## 2） 创建函数random_create, 在棋盘的一个随机位置插入一个数字2或者4，其中2的几率大"
   ]
  },
  {
   "cell_type": "code",
   "execution_count": 2,
   "metadata": {},
   "outputs": [
    {
     "ename": "NameError",
     "evalue": "name 'field' is not defined",
     "output_type": "error",
     "traceback": [
      "\u001b[0;31m---------------------------------------------------------------------------\u001b[0m",
      "\u001b[0;31mNameError\u001b[0m                                 Traceback (most recent call last)",
      "\u001b[0;32m<ipython-input-2-b3cdcd4643c5>\u001b[0m in \u001b[0;36m<module>\u001b[0;34m\u001b[0m\n\u001b[1;32m      5\u001b[0m     \u001b[0mvalue\u001b[0m \u001b[0;34m=\u001b[0m \u001b[0mrandom\u001b[0m\u001b[0;34m.\u001b[0m\u001b[0mchoice\u001b[0m\u001b[0;34m(\u001b[0m\u001b[0;34m[\u001b[0m\u001b[0;36m2\u001b[0m\u001b[0;34m,\u001b[0m \u001b[0;36m2\u001b[0m\u001b[0;34m,\u001b[0m \u001b[0;36m2\u001b[0m\u001b[0;34m,\u001b[0m \u001b[0;36m4\u001b[0m\u001b[0;34m]\u001b[0m\u001b[0;34m)\u001b[0m\u001b[0;34m\u001b[0m\u001b[0;34m\u001b[0m\u001b[0m\n\u001b[1;32m      6\u001b[0m     \u001b[0mfield\u001b[0m\u001b[0;34m[\u001b[0m\u001b[0mi\u001b[0m\u001b[0;34m]\u001b[0m\u001b[0;34m[\u001b[0m\u001b[0mj\u001b[0m\u001b[0;34m]\u001b[0m \u001b[0;34m=\u001b[0m \u001b[0mvalue\u001b[0m\u001b[0;34m\u001b[0m\u001b[0;34m\u001b[0m\u001b[0m\n\u001b[0;32m----> 7\u001b[0;31m \u001b[0mrandom_create\u001b[0m\u001b[0;34m(\u001b[0m\u001b[0;34m)\u001b[0m\u001b[0;34m\u001b[0m\u001b[0;34m\u001b[0m\u001b[0m\n\u001b[0m\u001b[1;32m      8\u001b[0m \u001b[0mprint\u001b[0m\u001b[0;34m(\u001b[0m\u001b[0mfield\u001b[0m\u001b[0;34m)\u001b[0m\u001b[0;34m\u001b[0m\u001b[0;34m\u001b[0m\u001b[0m\n",
      "\u001b[0;32m<ipython-input-2-b3cdcd4643c5>\u001b[0m in \u001b[0;36mrandom_create\u001b[0;34m()\u001b[0m\n\u001b[1;32m      4\u001b[0m     \u001b[0mj\u001b[0m \u001b[0;34m=\u001b[0m \u001b[0mrandom\u001b[0m\u001b[0;34m.\u001b[0m\u001b[0mchoice\u001b[0m\u001b[0;34m(\u001b[0m\u001b[0mrange\u001b[0m\u001b[0;34m(\u001b[0m\u001b[0;36m4\u001b[0m\u001b[0;34m)\u001b[0m\u001b[0;34m)\u001b[0m\u001b[0;34m\u001b[0m\u001b[0;34m\u001b[0m\u001b[0m\n\u001b[1;32m      5\u001b[0m     \u001b[0mvalue\u001b[0m \u001b[0;34m=\u001b[0m \u001b[0mrandom\u001b[0m\u001b[0;34m.\u001b[0m\u001b[0mchoice\u001b[0m\u001b[0;34m(\u001b[0m\u001b[0;34m[\u001b[0m\u001b[0;36m2\u001b[0m\u001b[0;34m,\u001b[0m \u001b[0;36m2\u001b[0m\u001b[0;34m,\u001b[0m \u001b[0;36m2\u001b[0m\u001b[0;34m,\u001b[0m \u001b[0;36m4\u001b[0m\u001b[0;34m]\u001b[0m\u001b[0;34m)\u001b[0m\u001b[0;34m\u001b[0m\u001b[0;34m\u001b[0m\u001b[0m\n\u001b[0;32m----> 6\u001b[0;31m     \u001b[0mfield\u001b[0m\u001b[0;34m[\u001b[0m\u001b[0mi\u001b[0m\u001b[0;34m]\u001b[0m\u001b[0;34m[\u001b[0m\u001b[0mj\u001b[0m\u001b[0;34m]\u001b[0m \u001b[0;34m=\u001b[0m \u001b[0mvalue\u001b[0m\u001b[0;34m\u001b[0m\u001b[0;34m\u001b[0m\u001b[0m\n\u001b[0m\u001b[1;32m      7\u001b[0m \u001b[0mrandom_create\u001b[0m\u001b[0;34m(\u001b[0m\u001b[0;34m)\u001b[0m\u001b[0;34m\u001b[0m\u001b[0;34m\u001b[0m\u001b[0m\n\u001b[1;32m      8\u001b[0m \u001b[0mprint\u001b[0m\u001b[0;34m(\u001b[0m\u001b[0mfield\u001b[0m\u001b[0;34m)\u001b[0m\u001b[0;34m\u001b[0m\u001b[0;34m\u001b[0m\u001b[0m\n",
      "\u001b[0;31mNameError\u001b[0m: name 'field' is not defined"
     ]
    }
   ],
   "source": [
    "# import random\n",
    "# def random_create():\n",
    "#     i = random.choice(range(4))\n",
    "#     j = random.choice(range(4))\n",
    "#     value = random.choice([2, 2, 2, 4])\n",
    "#     li[i][j] = value\n",
    "# random_create()\n",
    "# print(li)"
   ]
  },
  {
   "cell_type": "markdown",
   "metadata": {},
   "source": [
    "## 3）如果随机插入数字的位置已经有内容， 如何解决覆盖原有数字的问题\n"
   ]
  },
  {
   "cell_type": "code",
   "execution_count": 5,
   "metadata": {},
   "outputs": [
    {
     "name": "stdout",
     "output_type": "stream",
     "text": [
      "[[0, 0, 0, 2], [0, 0, 0, 0], [0, 2, 0, 0], [0, 0, 0, 0]]\n"
     ]
    }
   ],
   "source": [
    "def random_creat():\n",
    "    while True:\n",
    "        i = random.choice(range(4))\n",
    "        j = random.choice(range(4))\n",
    "        if li[i][j] == 0:\n",
    "            li[i][j] = 4 if random.randint(1, 100) > 80 else 2\n",
    "            break\n",
    "random_creat()\n",
    "print(li)"
   ]
  },
  {
   "cell_type": "markdown",
   "metadata": {},
   "source": [
    "## 4） 将生成的数据， 通过图像画出来"
   ]
  },
  {
   "cell_type": "code",
   "execution_count": 4,
   "metadata": {},
   "outputs": [
    {
     "name": "stdout",
     "output_type": "stream",
     "text": [
      "+-----+-----+-----+-----+\n",
      "|     |     |     |     |\n",
      "+-----+-----+-----+-----+\n",
      "|     |     |     |     |\n",
      "+-----+-----+-----+-----+\n",
      "|     |  2  |     |     |\n",
      "+-----+-----+-----+-----+\n",
      "|     |     |     |     |\n",
      "+-----+-----+-----+-----+\n"
     ]
    }
   ],
   "source": [
    "\n",
    "\n",
    "def draw_sep():\n",
    "    print('+-----' * 4 + '+')\n",
    "\n",
    "\n",
    "def draw_num(row):\n",
    "    print(''.join('|{:^5}'.format(num) if num != 0 else '|     ' for num in row) + '|')\n",
    "\n",
    "\n",
    "for row in li:\n",
    "    draw_sep()\n",
    "    draw_num(row)\n",
    "draw_sep()\n"
   ]
  },
  {
   "cell_type": "markdown",
   "metadata": {},
   "source": [
    "## 5） 矩阵的反转"
   ]
  },
  {
   "cell_type": "code",
   "execution_count": null,
   "metadata": {},
   "outputs": [],
   "source": [
    "def invert(field):\n",
    "    return [row[::-1] for row in field]"
   ]
  },
  {
   "cell_type": "markdown",
   "metadata": {},
   "source": [
    "## 6） 矩阵的转秩"
   ]
  },
  {
   "cell_type": "code",
   "execution_count": null,
   "metadata": {},
   "outputs": [],
   "source": [
    "def transpose(field):\n",
    "    return [list(row) for row in zip(*field)]"
   ]
  },
  {
   "cell_type": "markdown",
   "metadata": {},
   "source": [
    "## ７） 判断棋盘是否可移动"
   ]
  },
  {
   "cell_type": "code",
   "execution_count": null,
   "metadata": {},
   "outputs": [],
   "source": [
    "def is_row_change(row):\n",
    "    # row\n",
    "    # 判断一行内容是否可以移动\n",
    "    def is_change(i):\n",
    "        # 判断每两个元素之间是否可以移动\n",
    "        if row[i] == 0 and row[i + 1] != 0:\n",
    "            return True\n",
    "        if row[i] != 0 and row[i + 1] == row[i]:\n",
    "            return True\n",
    "        else:\n",
    "            return False\n",
    "\n",
    "    return any([is_change(index) for index in range(len(row) - 1)])\n",
    "\n",
    "#判断这个棋盘是否可左右上下移动\n",
    "\n",
    "def is_move_left(field):\n",
    "    return any([is_row_change(row) for row in field])\n",
    "\n",
    "\n",
    "def is_move_right(field):\n",
    "    #  对于列表元素进行反转\n",
    "    field = invert(field)\n",
    "    print(field)\n",
    "    return is_move_left(field)\n",
    "\n",
    "def is_move_up(field):\n",
    "    # 对于列表元素进行转置\n",
    "    field = transpose(field)\n",
    "    return is_move_left(field)\n",
    "\n",
    "def is_move_down(field):\n",
    "    # 反转+ 转置\n",
    "    field = transpose(field)\n",
    "    return is_move_right(field)"
   ]
  },
  {
   "cell_type": "markdown",
   "metadata": {},
   "source": [
    "## 8） 棋盘的移动，相加"
   ]
  },
  {
   "cell_type": "code",
   "execution_count": null,
   "metadata": {},
   "outputs": [],
   "source": [
    "def tight(row):   # [2, 0, 2, 0]\n",
    "    # 最快的方式， 通过排序实现...........\n",
    "    return sorted(row, key=lambda x: if  x == 0 )\n",
    "score = 0\n",
    "# 相加\n",
    "def merge(row): # [2,2,0,0]\n",
    "    # [0,1,2]\n",
    "    for i in range(len(row)-1):\n",
    "        # 如果两个值相等， 前一个元素*2, 后一个元素改为0。\n",
    "        if row[i] == row[i+1]:\n",
    "            row[i] *= 2\n",
    "            row[i+1] = 0\n",
    "            # 如果覆盖成功， 就给得分\n",
    "            global score\n",
    "            score += row[i]\n",
    "    return row\n",
    "\n",
    "# 棋盘左右上下移动相加\n",
    "\n",
    "def move_row_left(self, row):\n",
    "    return self.tight(self.merge(self.tight(row)))\n",
    "\n",
    "def move_left(self, field):\n",
    "    return [self.move_row_left(row) for row in field]\n",
    "\n",
    "def move_right(self, field):\n",
    "    field = self.invert(field)\n",
    "    return self.invert([self.move_row_left(row) for row in field])\n",
    "\n",
    "def move_up(self, field):\n",
    "    return self.transpose([self.move_row_left(row) for row in self.transpose(field)])\n",
    "\n",
    "def move_down(self, field):\n",
    "    return self.invert(self.transpose([self.move_row_left(row) for row in self.invert(self.transpose(field))]))\n",
    "\n",
    "                                       "
   ]
  },
  {
   "cell_type": "markdown",
   "metadata": {},
   "source": [
    "## 9） 判断游戏的胜利与结束"
   ]
  },
  {
   "cell_type": "code",
   "execution_count": null,
   "metadata": {},
   "outputs": [],
   "source": [
    "#判断游戏何时胜利：当棋盘中出现2048时，就代表着游戏胜利\n",
    "def victory(field):\n",
    "    li = [y for row in li for y in row]\n",
    "    if max(li) >= 2048:\n",
    "        print('Victory')\n",
    "def game_over(filed):\n",
    "    if all((is_move_left(filed), is_move_right(filed), is_move_up(filed), is_move_down(filed))) == False:\n",
    "        print('Game Over')   \n"
   ]
  },
  {
   "cell_type": "code",
   "execution_count": null,
   "metadata": {},
   "outputs": [],
   "source": []
  },
  {
   "cell_type": "code",
   "execution_count": null,
   "metadata": {},
   "outputs": [],
   "source": []
  },
  {
   "cell_type": "code",
   "execution_count": null,
   "metadata": {},
   "outputs": [],
   "source": []
  },
  {
   "cell_type": "code",
   "execution_count": null,
   "metadata": {},
   "outputs": [],
   "source": []
  },
  {
   "cell_type": "code",
   "execution_count": null,
   "metadata": {},
   "outputs": [],
   "source": []
  },
  {
   "cell_type": "code",
   "execution_count": null,
   "metadata": {},
   "outputs": [],
   "source": []
  },
  {
   "cell_type": "code",
   "execution_count": null,
   "metadata": {},
   "outputs": [],
   "source": []
  },
  {
   "cell_type": "code",
   "execution_count": null,
   "metadata": {},
   "outputs": [],
   "source": []
  },
  {
   "cell_type": "code",
   "execution_count": null,
   "metadata": {},
   "outputs": [],
   "source": []
  },
  {
   "cell_type": "code",
   "execution_count": null,
   "metadata": {},
   "outputs": [],
   "source": []
  },
  {
   "cell_type": "code",
   "execution_count": null,
   "metadata": {},
   "outputs": [],
   "source": []
  },
  {
   "cell_type": "code",
   "execution_count": null,
   "metadata": {},
   "outputs": [],
   "source": []
  },
  {
   "cell_type": "code",
   "execution_count": null,
   "metadata": {},
   "outputs": [],
   "source": []
  },
  {
   "cell_type": "code",
   "execution_count": null,
   "metadata": {},
   "outputs": [],
   "source": []
  },
  {
   "cell_type": "code",
   "execution_count": null,
   "metadata": {},
   "outputs": [],
   "source": []
  },
  {
   "cell_type": "code",
   "execution_count": null,
   "metadata": {},
   "outputs": [],
   "source": []
  }
 ],
 "metadata": {
  "kernelspec": {
   "display_name": "Python 3",
   "language": "python",
   "name": "python3"
  },
  "language_info": {
   "codemirror_mode": {
    "name": "ipython",
    "version": 3
   },
   "file_extension": ".py",
   "mimetype": "text/x-python",
   "name": "python",
   "nbconvert_exporter": "python",
   "pygments_lexer": "ipython3",
   "version": "3.7.6"
  }
 },
 "nbformat": 4,
 "nbformat_minor": 4
}
